{
 "cells": [
  {
   "cell_type": "code",
   "execution_count": null,
   "id": "dccf5a75-3ad5-405e-8fcf-3ef3bd8bc1e6",
   "metadata": {},
   "outputs": [],
   "source": [
    "# Convert the pdf to a folder of images containing screenshots of each page "
   ]
  },
  {
   "cell_type": "code",
   "execution_count": 2,
   "id": "a2e88933-a0ee-4fe3-b204-bffc5d6f5704",
   "metadata": {},
   "outputs": [
    {
     "name": "stdout",
     "output_type": "stream",
     "text": [
      "Images saved in pdf_images\n"
     ]
    }
   ],
   "source": [
    "from pdf2image import convert_from_path\n",
    "import os\n",
    "\n",
    "pdf_path = '/media/pratyush/Work/imgprocess/sample.pdf'\n",
    "\n",
    "images = convert_from_path(pdf_path)\n",
    "\n",
    "output_dir = 'pdf_images'\n",
    "os.makedirs(output_dir, exist_ok=True)\n",
    "\n",
    "for i, image in enumerate(images):\n",
    "    image_path = os.path.join(output_dir, f'page_{i+1}.png')\n",
    "    image.save(image_path, 'PNG')\n",
    "\n",
    "print(f'Images saved in {output_dir}')"
   ]
  },
  {
   "cell_type": "code",
   "execution_count": null,
   "id": "423e6954-286d-46b4-af87-d2e613b97d9a",
   "metadata": {},
   "outputs": [],
   "source": [
    "#extract text from image using pytesseract"
   ]
  },
  {
   "cell_type": "code",
   "execution_count": 3,
   "id": "986f8065-5be0-480b-9e80-703e43b9b2d1",
   "metadata": {},
   "outputs": [],
   "source": [
    "from PIL import Image\n",
    "import pytesseract\n",
    "from datetime import datetime\n",
    "\n",
    "output_dir = datetime.now().strftime('%Y-%m-%d')\n",
    "os.makedirs(output_dir, exist_ok=True)\n",
    "\n",
    "def convert_images_to_text(image_folder):\n",
    "    for image_file in os.listdir(image_folder):\n",
    "        if image_file.lower().endswith(('.jpg', '.jpeg', '.png')):\n",
    "            image_path = os.path.join(image_folder, image_file)\n",
    "            with Image.open(image_path) as img:\n",
    "                text = pytesseract.image_to_string(img)\n",
    "            text_file_path = os.path.join(output_dir, image_file[:-4] + \".txt\")\n",
    "            with open(text_file_path, 'w') as file:\n",
    "                file.write(text)\n",
    "            #print(f'Text for {image_file} written to {text_file_path}')\n",
    "\n",
    "image_folder = \"/media/pratyush/Work/imgprocess/pdf_images\"\n",
    "convert_images_to_text(image_folder)\n"
   ]
  },
  {
   "cell_type": "code",
   "execution_count": null,
   "id": "a106bea4-37b6-4f48-92e4-38f3e3115702",
   "metadata": {},
   "outputs": [],
   "source": [
    "#record the metadata for the files"
   ]
  },
  {
   "cell_type": "code",
   "execution_count": 6,
   "id": "77559fbf-3602-44bc-8a8a-0ad090b015a6",
   "metadata": {},
   "outputs": [],
   "source": [
    "import pandas as pd\n",
    "word_counts = []\n",
    "file_names = []\n",
    "for file in os.listdir(output_dir):\n",
    "    file_path = os.path.join(output_dir,file)\n",
    "    with open(file_path,'r') as file:\n",
    "        text = file.read()\n",
    "        num_words = len(text.split())\n",
    "        word_counts.append(num_words)\n",
    "        file_names.append(os.path.basename(file_path))\n",
    "        \n",
    "df = pd.DataFrame()\n",
    "df['filename'] = file_names\n",
    "df['word_counts'] = word_counts \n",
    "df.to_csv('metadata.csv')"
   ]
  },
  {
   "cell_type": "code",
   "execution_count": null,
   "id": "14a05014-8c7a-490b-aefd-afc50fa6e8a4",
   "metadata": {},
   "outputs": [],
   "source": [
    "#concatenate all the text files"
   ]
  },
  {
   "cell_type": "code",
   "execution_count": 15,
   "id": "9168439a-059e-40b1-bcab-747867e9af67",
   "metadata": {},
   "outputs": [],
   "source": [
    "folder_path = 'text'\n",
    "output_file = 'concat.txt'\n",
    "with open(output_file,'a') as output_file:\n",
    "    for file in os.listdir(folder_path):\n",
    "        file_path = os.path.join(folder_path,file)\n",
    "        with open(file_path,'r') as file:\n",
    "            text = file.read()\n",
    "            output_file.write(text)\n",
    "            output_file.write(\"\\n\\n\")  \n"
   ]
  },
  {
   "cell_type": "code",
   "execution_count": null,
   "id": "38e7e080-4988-422c-a4ed-8ee107901d18",
   "metadata": {},
   "outputs": [],
   "source": []
  }
 ],
 "metadata": {
  "kernelspec": {
   "display_name": "Python 3 (ipykernel)",
   "language": "python",
   "name": "python3"
  },
  "language_info": {
   "codemirror_mode": {
    "name": "ipython",
    "version": 3
   },
   "file_extension": ".py",
   "mimetype": "text/x-python",
   "name": "python",
   "nbconvert_exporter": "python",
   "pygments_lexer": "ipython3",
   "version": "3.11.5"
  }
 },
 "nbformat": 4,
 "nbformat_minor": 5
}
